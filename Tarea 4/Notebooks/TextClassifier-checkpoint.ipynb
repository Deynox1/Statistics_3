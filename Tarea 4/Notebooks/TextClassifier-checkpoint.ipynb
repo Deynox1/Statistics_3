{
 "cells": [
  {
   "cell_type": "code",
   "execution_count": 1,
   "id": "93713946-2b19-435a-aa08-b2f5215752ed",
   "metadata": {},
   "outputs": [],
   "source": [
    "import pandas as pd\n",
    "import numpy as np\n",
    "import statsmodels.api as sm\n",
    "import matplotlib.pyplot as plt\n",
    "import re\n",
    "import requests\n",
    "import matplotlib.pyplot as plt\n",
    "import graphviz\n",
    "import statsmodels.api as sm\n",
    "from math import log\n",
    "from sklearn.model_selection import train_test_split\n",
    "from sklearn.linear_model import LogisticRegression\n",
    "from sklearn.feature_extraction.text import CountVectorizer\n",
    "from sklearn.feature_extraction.text import TfidfVectorizer\n",
    "from sklearn.linear_model import LogisticRegression\n",
    "from sklearn.ensemble import RandomForestClassifier, GradientBoostingClassifier\n",
    "from sklearn.metrics import confusion_matrix, accuracy_score, precision_score, recall_score\n",
    "from sklearn.preprocessing import StandardScaler\n",
    "from sklearn.model_selection import train_test_split\n",
    "from sklearn.datasets import load_iris\n",
    "from sklearn.model_selection import cross_val_score\n",
    "from sklearn.tree import DecisionTreeClassifier\n",
    "from sklearn import tree \n",
    "from sklearn import preprocessing\n",
    "from sklearn.metrics import confusion_matrix, ConfusionMatrixDisplay\n",
    "from sklearn.metrics import confusion_matrix, f1_score, roc_curve, precision_score, recall_score, accuracy_score, roc_auc_score\n",
    "from sklearn import metrics\n",
    "from sklearn.tree import export_graphviz\n",
    "from sklearn.model_selection import train_test_split\n",
    "from sklearn.preprocessing import LabelEncoder\n",
    "from tensorflow.keras.preprocessing.text import Tokenizer\n",
    "from tensorflow.keras.preprocessing.sequence import pad_sequences\n",
    "from tensorflow.keras.models import Sequential\n",
    "from tensorflow.keras.layers import Embedding, LSTM, Dense\n",
    "from sklearn.metrics import classification_report\n",
    "from collections import defaultdict"
   ]
  },
  {
   "cell_type": "code",
   "execution_count": 2,
   "id": "60ba6514-2b9a-4d7a-ac0c-c07ee157a86b",
   "metadata": {},
   "outputs": [],
   "source": [
    "train_data = pd.read_csv(\"./trainText.csv\")\n",
    "test_data = pd.read_csv(\"./testText.csv\")"
   ]
  },
  {
   "cell_type": "code",
   "execution_count": 3,
   "id": "d3924b55-3dbc-404f-b0cc-54475a1343cf",
   "metadata": {},
   "outputs": [],
   "source": [
    "df = pd.DataFrame(train_data)"
   ]
  },
  {
   "cell_type": "code",
   "execution_count": 4,
   "id": "817fa202-ec44-456f-b6c8-c24b5f9ff63b",
   "metadata": {},
   "outputs": [],
   "source": [
    "titles = df[\"titulo\"].tolist()"
   ]
  },
  {
   "cell_type": "code",
   "execution_count": 5,
   "id": "079f9282-da7d-4a7d-9910-bf2f6cc2b2cb",
   "metadata": {},
   "outputs": [],
   "source": [
    "words_dic = defaultdict(int)"
   ]
  },
  {
   "cell_type": "code",
   "execution_count": 6,
   "id": "3c124095-74b0-44aa-8c76-40b88426e9e6",
   "metadata": {},
   "outputs": [],
   "source": [
    "for titulo in titles:\n",
    "    titulo = titulo.lower()\n",
    "    titulo = re.sub('[á]', 'a', titulo)\n",
    "    titulo = re.sub('[é]', 'e', titulo)\n",
    "    titulo = re.sub('[í]', 'i', titulo)\n",
    "    titulo = re.sub('[ó]', 'o', titulo)\n",
    "    titulo = re.sub('[ú]', 'u', titulo)\n",
    "    titulo = re.sub('[ñ]','n',titulo)\n",
    "    words = titulo.split()\n",
    "    for word in words:\n",
    "        words_dic[word] +=1\n",
    "unique_words = len(words_dic)\n",
    "total_unique_words = sum(words_dic.values())"
   ]
  },
  {
   "cell_type": "code",
   "execution_count": 7,
   "id": "47f8bde4-390e-4cc4-8cea-b1cc5ecc7ff1",
   "metadata": {},
   "outputs": [],
   "source": [
    "delete = words_dic.pop('-')\n",
    "delete = words_dic.pop('de')\n",
    "delete = words_dic.pop('vemos')\n",
    "delete = words_dic.pop('lo')\n",
    "delete = words_dic.pop('que')\n",
    "delete = words_dic.pop('todo')\n",
    "delete = words_dic.pop('la')\n",
    "delete = words_dic.pop('en')\n",
    "delete = words_dic.pop('el')\n",
    "delete = words_dic.pop('los')"
   ]
  },
  {
   "cell_type": "code",
   "execution_count": 8,
   "id": "501456fb-7778-4d78-84b5-51c0a4bae5e2",
   "metadata": {},
   "outputs": [],
   "source": [
    "lista = list(words_dic.keys())\n",
    "matriz = []\n",
    "dic = {v:k for k,v in enumerate(lista)}\n",
    "for titulo_1 in titles:\n",
    "    cont = 0\n",
    "    words = [0] * 2305\n",
    "    titulo_1 = titulo_1.lower()\n",
    "    titulo_1 = re.sub('[á]', 'a', titulo_1)\n",
    "    titulo_1 = re.sub('[é]', 'e', titulo_1)\n",
    "    titulo_1 = re.sub('[í]', 'i', titulo_1)\n",
    "    titulo_1 = re.sub('[ó]', 'o', titulo_1)\n",
    "    titulo_1 = re.sub('[ú]', 'u', titulo_1)\n",
    "    titulo_1 = re.sub('[ñ]','n',titulo_1)\n",
    "    aux = titulo_1.split()\n",
    "    for palabra_1 in aux:\n",
    "        if palabra_1 in dic:\n",
    "            words[dic[palabra_1]] = words[dic[palabra_1]] + 1\n",
    "        if palabra_1 == '-' or palabra_1 == 'de' or palabra_1 == 'vemos' or palabra_1 == 'lo' or palabra_1 == 'que' or palabra_1=='todo' or palabra_1=='la' or palabra_1=='en' or palabra_1=='el' or palabra_1=='los':\n",
    "            cont = cont + 1\n",
    "    for l in range(len(words)):\n",
    "        if sum(words) == 0:\n",
    "            words[l] = 0\n",
    "        else:\n",
    "            words[l] = words[l]*(1.0/(len(aux)-cont))\n",
    "    matriz.append(words)"
   ]
  },
  {
   "cell_type": "code",
   "execution_count": 9,
   "id": "f25596f7-2662-41b9-a761-cca32d6360c1",
   "metadata": {},
   "outputs": [],
   "source": [
    "#Repetimos el mismo proceso inicial de la TF\n",
    "dictAux = defaultdict(int)\n",
    "for titulo_aux in titles:\n",
    "    aux = defaultdict(int)\n",
    "    titulo_aux = titulo_aux.lower()\n",
    "    titulo_aux = re.sub('[á]', 'a', titulo_aux)\n",
    "    titulo_aux = re.sub('[é]', 'e', titulo_aux)\n",
    "    titulo_aux = re.sub('[í]', 'i', titulo_aux)\n",
    "    titulo_aux = re.sub('[ó]', 'o', titulo_aux)\n",
    "    titulo_aux = re.sub('[ú]', 'u', titulo_aux)\n",
    "    palabras_aux = titulo_aux.split()\n",
    "    for h in palabras_aux:\n",
    "        if h != '-' and h!='de' and h!='vemos' and h!='lo' and h!='de' and h!='que' and h!='todo' and h!='la'and h!='en' and h!='el' and h!='los':\n",
    "            if h not in aux:\n",
    "                aux[h] +=1\n",
    "            dictAux[h] = dictAux[h] + aux[h]\n",
    "vector = []\n",
    "for valor in dictAux.values():\n",
    "    vector.append(valor)\n",
    "\n",
    "IDF = [0] * len(vector)\n",
    "for x in range(len(vector)):\n",
    "    IDF[x] = log((1000)/(vector[x]+1))"
   ]
  },
  {
   "cell_type": "code",
   "execution_count": 10,
   "id": "ae9d3dde-1808-4adc-8a4e-04bedd0f91c0",
   "metadata": {},
   "outputs": [],
   "source": [
    "tf_idf = []\n",
    "for vector_aux in matriz:\n",
    "    aux_1 = [0]*800\n",
    "    for n in range(800):\n",
    "        aux_1[n] = vector_aux[n]*IDF[n]\n",
    "    tf_idf.append(aux_1)"
   ]
  },
  {
   "cell_type": "code",
   "execution_count": 11,
   "id": "0349a188-d508-4ad8-bcf0-dac6c81cc140",
   "metadata": {},
   "outputs": [],
   "source": [
    "dataFrame = pd.DataFrame(tf_idf)"
   ]
  },
  {
   "cell_type": "code",
   "execution_count": 12,
   "id": "05ba879e-3b7f-4952-afa2-a5164b446da2",
   "metadata": {},
   "outputs": [],
   "source": [
    "y = df['categoria']"
   ]
  },
  {
   "cell_type": "code",
   "execution_count": 13,
   "id": "986c24b5-cf84-40ae-ac73-7963949b401c",
   "metadata": {},
   "outputs": [],
   "source": [
    "x_train, x_test, y_train, y_test = train_test_split(dataFrame, y, train_size = 0.8, random_state = 42)"
   ]
  },
  {
   "cell_type": "code",
   "execution_count": 14,
   "id": "1426c0a4-ac6f-4e78-b039-a63a49b9108d",
   "metadata": {},
   "outputs": [
    {
     "data": {
      "text/plain": [
       "<sklearn.metrics._plot.confusion_matrix.ConfusionMatrixDisplay at 0x18f7880cc10>"
      ]
     },
     "execution_count": 14,
     "metadata": {},
     "output_type": "execute_result"
    },
    {
     "data": {
      "image/png": "[encoded data removed]",
      "text/plain": [
       "<Figure size 640x480 with 2 Axes>"
      ]
     },
     "metadata": {},
     "output_type": "display_data"
    }
   ],
   "source": [
    "#Aplicamos la regresion logistica con una libreria mediante los datos de training\n",
    "clf1 = LogisticRegression(solver='lbfgs').fit(x_train, y_train)\n",
    "clf1.coef_\n",
    "#Y creamos una matriz de confusion para ver los resultados de la regresion logistica\n",
    "cm = confusion_matrix(y_test, clf1.predict(x_test))\n",
    "disp = ConfusionMatrixDisplay(confusion_matrix=cm,)\n",
    "disp.plot()"
   ]
  },
  {
   "cell_type": "code",
   "execution_count": 15,
   "id": "26850922-d0ed-4be2-aa7e-1cd96d3d3fa8",
   "metadata": {},
   "outputs": [
    {
     "name": "stdout",
     "output_type": "stream",
     "text": [
      "                      precision    recall  f1-score   support\n",
      "\n",
      "            Deportes     0.6857    0.6316    0.6575        38\n",
      "           Educación     0.7273    0.3333    0.4571        24\n",
      "     Entretenimiento     0.4938    0.8333    0.6202        48\n",
      "       Gente y Blogs     1.0000    0.1250    0.2222         8\n",
      "               Otros     1.0000    0.3000    0.4615        10\n",
      "Película y Animación     0.5862    0.5312    0.5574        32\n",
      "\n",
      "            accuracy                         0.5813       160\n",
      "           macro avg     0.7488    0.4591    0.4960       160\n",
      "        weighted avg     0.6498    0.5813    0.5622       160\n",
      "\n"
     ]
    }
   ],
   "source": [
    "y_predict=clf1.predict(x_test)\n",
    "print(metrics.classification_report(y_test,y_predict, digits = 4))"
   ]
  },
  {
   "cell_type": "code",
   "execution_count": 16,
   "id": "92e83996-1645-434f-baff-24a4c047bce4",
   "metadata": {},
   "outputs": [],
   "source": [
    "X = x_train\n",
    "y = y_train"
   ]
  },
  {
   "cell_type": "code",
   "execution_count": 17,
   "id": "ea004861-20c3-44c4-a652-e1e3214be424",
   "metadata": {},
   "outputs": [
    {
     "data": {
      "text/html": [
       "<style>#sk-container-id-1 {color: black;}#sk-container-id-1 pre{padding: 0;}#sk-container-id-1 div.sk-toggleable {background-color: white;}#sk-container-id-1 label.sk-toggleable__label {cursor: pointer;display: block;width: 100%;margin-bottom: 0;padding: 0.3em;box-sizing: border-box;text-align: center;}#sk-container-id-1 label.sk-toggleable__label-arrow:before {content: \"▸\";float: left;margin-right: 0.25em;color: #696969;}#sk-container-id-1 label.sk-toggleable__label-arrow:hover:before {color: black;}#sk-container-id-1 div.sk-estimator:hover label.sk-toggleable__label-arrow:before {color: black;}#sk-container-id-1 div.sk-toggleable__content {max-height: 0;max-width: 0;overflow: hidden;text-align: left;background-color: #f0f8ff;}#sk-container-id-1 div.sk-toggleable__content pre {margin: 0.2em;color: black;border-radius: 0.25em;background-color: #f0f8ff;}#sk-container-id-1 input.sk-toggleable__control:checked~div.sk-toggleable__content {max-height: 200px;max-width: 100%;overflow: auto;}#sk-container-id-1 input.sk-toggleable__control:checked~label.sk-toggleable__label-arrow:before {content: \"▾\";}#sk-container-id-1 div.sk-estimator input.sk-toggleable__control:checked~label.sk-toggleable__label {background-color: #d4ebff;}#sk-container-id-1 div.sk-label input.sk-toggleable__control:checked~label.sk-toggleable__label {background-color: #d4ebff;}#sk-container-id-1 input.sk-hidden--visually {border: 0;clip: rect(1px 1px 1px 1px);clip: rect(1px, 1px, 1px, 1px);height: 1px;margin: -1px;overflow: hidden;padding: 0;position: absolute;width: 1px;}#sk-container-id-1 div.sk-estimator {font-family: monospace;background-color: #f0f8ff;border: 1px dotted black;border-radius: 0.25em;box-sizing: border-box;margin-bottom: 0.5em;}#sk-container-id-1 div.sk-estimator:hover {background-color: #d4ebff;}#sk-container-id-1 div.sk-parallel-item::after {content: \"\";width: 100%;border-bottom: 1px solid gray;flex-grow: 1;}#sk-container-id-1 div.sk-label:hover label.sk-toggleable__label {background-color: #d4ebff;}#sk-container-id-1 div.sk-serial::before {content: \"\";position: absolute;border-left: 1px solid gray;box-sizing: border-box;top: 0;bottom: 0;left: 50%;z-index: 0;}#sk-container-id-1 div.sk-serial {display: flex;flex-direction: column;align-items: center;background-color: white;padding-right: 0.2em;padding-left: 0.2em;position: relative;}#sk-container-id-1 div.sk-item {position: relative;z-index: 1;}#sk-container-id-1 div.sk-parallel {display: flex;align-items: stretch;justify-content: center;background-color: white;position: relative;}#sk-container-id-1 div.sk-item::before, #sk-container-id-1 div.sk-parallel-item::before {content: \"\";position: absolute;border-left: 1px solid gray;box-sizing: border-box;top: 0;bottom: 0;left: 50%;z-index: -1;}#sk-container-id-1 div.sk-parallel-item {display: flex;flex-direction: column;z-index: 1;position: relative;background-color: white;}#sk-container-id-1 div.sk-parallel-item:first-child::after {align-self: flex-end;width: 50%;}#sk-container-id-1 div.sk-parallel-item:last-child::after {align-self: flex-start;width: 50%;}#sk-container-id-1 div.sk-parallel-item:only-child::after {width: 0;}#sk-container-id-1 div.sk-dashed-wrapped {border: 1px dashed gray;margin: 0 0.4em 0.5em 0.4em;box-sizing: border-box;padding-bottom: 0.4em;background-color: white;}#sk-container-id-1 div.sk-label label {font-family: monospace;font-weight: bold;display: inline-block;line-height: 1.2em;}#sk-container-id-1 div.sk-label-container {text-align: center;}#sk-container-id-1 div.sk-container {/* jupyter's `normalize.less` sets `[hidden] { display: none; }` but bootstrap.min.css set `[hidden] { display: none !important; }` so we also need the `!important` here to be able to override the default hidden behavior on the sphinx rendered scikit-learn.org. See: https://github.com/scikit-learn/scikit-learn/issues/21755 */display: inline-block !important;position: relative;}#sk-container-id-1 div.sk-text-repr-fallback {display: none;}</style><div id=\"sk-container-id-1\" class=\"sk-top-container\"><div class=\"sk-text-repr-fallback\"><pre>RandomForestClassifier()</pre><b>In a Jupyter environment, please rerun this cell to show the HTML representation or trust the notebook. <br />On GitHub, the HTML representation is unable to render, please try loading this page with nbviewer.org.</b></div><div class=\"sk-container\" hidden><div class=\"sk-item\"><div class=\"sk-estimator sk-toggleable\"><input class=\"sk-toggleable__control sk-hidden--visually\" id=\"sk-estimator-id-1\" type=\"checkbox\" checked><label for=\"sk-estimator-id-1\" class=\"sk-toggleable__label sk-toggleable__label-arrow\">RandomForestClassifier</label><div class=\"sk-toggleable__content\"><pre>RandomForestClassifier()</pre></div></div></div></div></div>"
      ],
      "text/plain": [
       "RandomForestClassifier()"
      ]
     },
     "execution_count": 17,
     "metadata": {},
     "output_type": "execute_result"
    }
   ],
   "source": [
    "rf = RandomForestClassifier(n_estimators=100)\n",
    "rf.fit(X, y)"
   ]
  },
  {
   "cell_type": "code",
   "execution_count": 18,
   "id": "12f2dcba-0edd-4a2d-af42-25579cf360ef",
   "metadata": {},
   "outputs": [
    {
     "data": {
      "text/plain": [
       "<sklearn.metrics._plot.confusion_matrix.ConfusionMatrixDisplay at 0x18f2b807190>"
      ]
     },
     "execution_count": 18,
     "metadata": {},
     "output_type": "execute_result"
    },
    {
     "data": {
      "image/png": "[encoded data removed]",
      "text/plain": [
       "<Figure size 640x480 with 2 Axes>"
      ]
     },
     "metadata": {},
     "output_type": "display_data"
    }
   ],
   "source": [
    "y_predict = rf.predict(x_test)\n",
    "cm = confusion_matrix(y_test, y_predict)\n",
    "disp = ConfusionMatrixDisplay(confusion_matrix=cm,\n",
    "                             )\n",
    "disp.plot()"
   ]
  },
  {
   "cell_type": "code",
   "execution_count": 19,
   "id": "44700ac0-0237-4cea-b887-c81e432b8777",
   "metadata": {},
   "outputs": [
    {
     "name": "stdout",
     "output_type": "stream",
     "text": [
      "                      precision    recall  f1-score   support\n",
      "\n",
      "            Deportes     0.8000    0.6316    0.7059        38\n",
      "           Educación     0.7000    0.2917    0.4118        24\n",
      "     Entretenimiento     0.5309    0.8958    0.6667        48\n",
      "       Gente y Blogs     1.0000    0.3750    0.5455         8\n",
      "               Otros     0.6667    0.4000    0.5000        10\n",
      "Película y Animación     0.5333    0.5000    0.5161        32\n",
      "\n",
      "            accuracy                         0.6062       160\n",
      "           macro avg     0.7051    0.5157    0.5576       160\n",
      "        weighted avg     0.6526    0.6062    0.5912       160\n",
      "\n"
     ]
    }
   ],
   "source": [
    "print(metrics.classification_report(y_test,y_predict, digits = 4))"
   ]
  },
  {
   "cell_type": "code",
   "execution_count": 20,
   "id": "a23f3374-e557-4088-a7ab-5362ffe2b5f6",
   "metadata": {},
   "outputs": [],
   "source": [
    "x = dataFrame.values\n",
    "y = df['categoria'].values\n",
    "\n",
    "numero_de_clases = len(np.unique(y))\n",
    "\n",
    "x_train, x_test, y_train, y_test = train_test_split(x, y, train_size=0.8, random_state=42)\n",
    "\n",
    "model = Sequential()\n",
    "model.add(LSTM(128, input_shape=(x_train.shape[1], 1)))  \n",
    "model.add(Dense(numero_de_clases, activation='softmax'))  \n",
    "\n",
    "model.compile(loss='sparse_categorical_crossentropy', optimizer='adam', metrics=['accuracy'])\n",
    "\n",
    "x_train = np.reshape(x_train, (x_train.shape[0], x_train.shape[1], 1))\n",
    "x_test = np.reshape(x_test, (x_test.shape[0], x_test.shape[1], 1))"
   ]
  },
  {
   "cell_type": "code",
   "execution_count": null,
   "id": "9a933e25-b3b6-4ba1-aeae-71cffee4a713",
   "metadata": {},
   "outputs": [],
   "source": [
    "model.fit(x_train, y_train, epochs=10, batch_size=32, validation_split=0.2)\n",
    "\n",
    "loss, accuracy = model.evaluate(x_test, y_test)\n",
    "print(f'Loss: {loss}, Accuracy: {accuracy}')"
   ]
  },
  {
   "cell_type": "markdown",
   "id": "e97cb37b-389f-40c5-8bfc-ec10cc1e562f",
   "metadata": {},
   "source": [
    "##### Me enfrenté a muchísimos errores tratando de ejecutar el LSTM como es pedido en la tarea, aun así de acuerdo a las submissions y los resultados mostrtados en este codigo puedo asegurar que el mejor modelo para este caso es el de regresión logistica."
   ]
  },
  {
   "cell_type": "code",
   "execution_count": null,
   "id": "2937891d-1787-4278-86ce-edab4adb1d16",
   "metadata": {},
   "outputs": [],
   "source": []
  }
 ],
 "metadata": {
  "kernelspec": {
   "display_name": "Python 3 (ipykernel)",
   "language": "python",
   "name": "python3"
  },
  "language_info": {
   "codemirror_mode": {
    "name": "ipython",
    "version": 3
   },
   "file_extension": ".py",
   "mimetype": "text/x-python",
   "name": "python",
   "nbconvert_exporter": "python",
   "pygments_lexer": "ipython3",
   "version": "3.11.4"
  }
 },
 "nbformat": 4,
 "nbformat_minor": 5
}
